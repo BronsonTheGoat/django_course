{
 "cells": [
  {
   "cell_type": "markdown",
   "id": "3e4cc936",
   "metadata": {},
   "source": [
    "# Django fordítási ellenőrzőlista\n",
    "1. Használj mindig \"gettext/gettext_lazy\" fordítási függvényeket\n",
    "- Python kódban: \"from django.utils.translation import gettext as _\""
   ]
  },
  {
   "cell_type": "code",
   "execution_count": null,
   "id": "cb5c42a8",
   "metadata": {},
   "outputs": [],
   "source": [
    "_(\"This is translatable\")"
   ]
  },
  {
   "cell_type": "markdown",
   "id": "8bed4b9f",
   "metadata": {},
   "source": [
    "\n",
    "- Model mezőknél, verbose neveknél: \"gettext_lazy\"-t használj (\"gettext_lazy as _\")\n",
    "\n",
    "2. Template-ben '{% trans \"...\" %}' vagy '{% blocktrans %}' használata\n",
    "- Egyszerű:"
   ]
  },
  {
   "cell_type": "code",
   "execution_count": null,
   "id": "422fd3a3",
   "metadata": {},
   "outputs": [],
   "source": [
    "{% trans \"Welcome back!\" %}"
   ]
  },
  {
   "cell_type": "markdown",
   "id": "5d04d40b",
   "metadata": {},
   "source": [
    "\n",
    "- Változóval:\n"
   ]
  },
  {
   "cell_type": "code",
   "execution_count": null,
   "id": "173fb61f",
   "metadata": {},
   "outputs": [],
   "source": [
    "{% blocktrans with name=user.username %}Welcome back, {{ name }}!{% endblocktrans %}"
   ]
  },
  {
   "cell_type": "markdown",
   "id": "da559d1b",
   "metadata": {},
   "source": [
    "3. Soha ne zárd be véletlenül túl korán az idézőjeleket\n",
    "- Hibás: {% trans \"Welcome back! %} (hiányzik a záró \" → hibás fordítási fájl)\n",
    "\n",
    "- Helyes: {% trans \"Welcome back!\" %}\n",
    "\n",
    "4. Futtass rendszeresen makemessages és compilemessages parancsokat\n",
    "- Frissítés:\n"
   ]
  },
  {
   "cell_type": "code",
   "execution_count": null,
   "id": "adbea4f5",
   "metadata": {},
   "outputs": [],
   "source": [
    "python manage.py makemessages -l hu"
   ]
  },
  {
   "cell_type": "markdown",
   "id": "0d3f2e8b",
   "metadata": {},
   "source": [
    "- Ellenőrzés + fordítás fájlok lefordítása:\n"
   ]
  },
  {
   "cell_type": "code",
   "execution_count": null,
   "id": "40290b36",
   "metadata": {},
   "outputs": [],
   "source": [
    "\n",
    "python manage.py compilemessages"
   ]
  },
  {
   "cell_type": "markdown",
   "id": "0f73243e",
   "metadata": {},
   "source": [
    "5. Kerüld a kézi .po fájl szerkesztést, ha nem muszáj\n",
    "- Ha szerkeszted: ügyelj arra, hogy a msgid és msgstr párosok mindig teljesek legyenek\n",
    "\n",
    "- Duplikációk, félig lezárt sorok, vagy törött idézőjelek → compilemessages hibát dob\n",
    "\n",
    "6. Használj PO szerkesztőt (pl. Poedit vagy Lokalise) ha sok a szöveg\n",
    "- Megelőzi a kézi hibákat\n",
    "\n",
    "- Jobban átlátható és ékezetes karaktereket is jól kezeli\n",
    "\n",
    "7. Teszteld a kész fordítást több nyelvi beállítással\n",
    "- settings.py:\n"
   ]
  },
  {
   "cell_type": "code",
   "execution_count": null,
   "id": "48d44bda",
   "metadata": {},
   "outputs": [],
   "source": [
    "LANGUAGE_CODE = 'hu'"
   ]
  },
  {
   "cell_type": "markdown",
   "id": "b3baa4d9",
   "metadata": {},
   "source": [
    "- vagy ideiglenesen:"
   ]
  },
  {
   "cell_type": "code",
   "execution_count": null,
   "id": "677736e3",
   "metadata": {},
   "outputs": [],
   "source": [
    "\n",
    "from django.utils import translation\n",
    "translation.activate('hu')"
   ]
  }
 ],
 "metadata": {
  "language_info": {
   "name": "python"
  }
 },
 "nbformat": 4,
 "nbformat_minor": 5
}
